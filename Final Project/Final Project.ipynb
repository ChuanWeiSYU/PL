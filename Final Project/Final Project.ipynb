{
 "cells": [
  {
   "cell_type": "code",
   "execution_count": 1,
   "id": "9e5d9c70",
   "metadata": {},
   "outputs": [],
   "source": [
    "#pip install Selenium"
   ]
  },
  {
   "cell_type": "code",
   "execution_count": 2,
   "id": "86d5dc59",
   "metadata": {},
   "outputs": [
    {
     "name": "stderr",
     "output_type": "stream",
     "text": [
      "C:\\Users\\wayan\\AppData\\Local\\Temp\\ipykernel_26680\\3933432528.py:8: DeprecationWarning: executable_path has been deprecated, please pass in a Service object\n",
      "  driver = webdriver.Chrome('./chromedriver')\n"
     ]
    }
   ],
   "source": [
    "from selenium import webdriver #加載webdriver並用執行selenium執行\n",
    "from selenium.webdriver.chrome.options import Options\n",
    "from selenium.webdriver.common.by import By #這行非常重要，讀取項目類型\n",
    "from selenium.webdriver.support.ui import Select #這行非常重要，讀取選單\n",
    "import datetime #如果打算全自動可忽略\n",
    "import time #如果打算全自動可忽略\n",
    "#另外，須至https://chromedriver.chromium.org/downloads下載與chrome版本對應的chromedriver\n",
    "driver = webdriver.Chrome('./chromedriver')\n",
    "driver.get('https://hehuanline.forest.gov.tw/user/?mode=login') \n",
    "#先進入登入介面，因為登入是最可以預先進行的操作"
   ]
  },
  {
   "cell_type": "code",
   "execution_count": 3,
   "id": "b05a3eff",
   "metadata": {},
   "outputs": [],
   "source": [
    "# 帳號密碼的登入\n",
    "User = driver.find_element(By.ID, \"is_uu\") #舊版driver.find_element_by_id()格式已失效\n",
    "User.clear() #清除可能的自動填入(更主要的是避免鑰匙圈搞事)\n",
    "User.send_keys('USERNAME') #輸入帳號\n",
    "Pw = driver.find_element(By.ID, \"is_pp\")\n",
    "Pw.clear() #同上\n",
    "Pw.send_keys('PASSWORD') #輸入密碼\n",
    "driver.find_element(By.ID, \"login-form-submit\").click()\n",
    "#到這裡登入完成"
   ]
  },
  {
   "cell_type": "code",
   "execution_count": 4,
   "id": "cb9cfe3a",
   "metadata": {},
   "outputs": [
    {
     "ename": "KeyboardInterrupt",
     "evalue": "",
     "output_type": "error",
     "traceback": [
      "\u001b[1;31m---------------------------------------------------------------------------\u001b[0m",
      "\u001b[1;31mKeyboardInterrupt\u001b[0m                         Traceback (most recent call last)",
      "\u001b[1;32m~\\AppData\\Local\\Temp\\ipykernel_26680\\975873947.py\u001b[0m in \u001b[0;36m<module>\u001b[1;34m\u001b[0m\n\u001b[0;32m      4\u001b[0m \u001b[1;31m# 等待到達特定時間\u001b[0m\u001b[1;33m\u001b[0m\u001b[1;33m\u001b[0m\u001b[0m\n\u001b[0;32m      5\u001b[0m \u001b[1;32mwhile\u001b[0m \u001b[0mdatetime\u001b[0m\u001b[1;33m.\u001b[0m\u001b[0mdatetime\u001b[0m\u001b[1;33m.\u001b[0m\u001b[0mnow\u001b[0m\u001b[1;33m(\u001b[0m\u001b[1;33m)\u001b[0m \u001b[1;33m<\u001b[0m \u001b[0mtarget_time\u001b[0m\u001b[1;33m:\u001b[0m\u001b[1;33m\u001b[0m\u001b[1;33m\u001b[0m\u001b[0m\n\u001b[1;32m----> 6\u001b[1;33m     \u001b[0mtime\u001b[0m\u001b[1;33m.\u001b[0m\u001b[0msleep\u001b[0m\u001b[1;33m(\u001b[0m\u001b[1;36m0.0001\u001b[0m\u001b[1;33m)\u001b[0m\u001b[1;33m\u001b[0m\u001b[1;33m\u001b[0m\u001b[0m\n\u001b[0m",
      "\u001b[1;31mKeyboardInterrupt\u001b[0m: "
     ]
    }
   ],
   "source": [
    "# 設定特定時間(通常是系統開放的時間)\n",
    "target_time = datetime.datetime(2023,6,1,8,0) #設定為特定時間，這裡以2023年6月1日早上8點為例\n",
    "\n",
    "# 等待到達特定時間\n",
    "while datetime.datetime.now() < target_time:\n",
    "    time.sleep(0.0001)"
   ]
  },
  {
   "cell_type": "code",
   "execution_count": null,
   "id": "9c5e39ab",
   "metadata": {},
   "outputs": [],
   "source": [
    "#接下來進入訂房\n",
    "CheckIn = '2023-06-10' #輸入想要入住的日期\n",
    "CheckOut = '2023-06-11' #輸入想要退房的日期\n",
    "Room = '1' #輸入房間數量\n",
    "#上面要先輸入再執行這個cell\n",
    "driver.get('https://hehuanline.forest.gov.tw/room/?mode=rule&date_start='+CheckIn) #這網頁實在很蠢，好歹加密一下\n",
    "driver.find_element(By.XPATH, '//*[@id=\"is-content\"]/div/a[1]').click()\n",
    "Out = driver.find_element(By.ID, \"date_end\")\n",
    "Out.send_keys(CheckOut)\n",
    "#下面進入麻煩的下拉式選單的操作\n",
    "Menu = driver.find_element(By.NAME, \"num[212]\")\n",
    "options_list = Select(Menu).options\n",
    "# 用迴圈把文本內容讀取出來\n",
    "for option in options_list:\n",
    "    print(option.text)  # 印出所有可選擇的項目，可跳過或者註解掉\n",
    "Select(Menu).select_by_value(Room)"
   ]
  },
  {
   "cell_type": "code",
   "execution_count": null,
   "id": "ce313cbb",
   "metadata": {},
   "outputs": [],
   "source": [
    "#接下來最後三步操作\n",
    "driver.find_element(By.XPATH, '//*[@id=\"button_roomsubmit\"]').click() #確認訂房\n",
    "driver.find_element(By.ID, 'payment_22').click() #確認付款方式\n",
    "driver.find_element(By.XPATH, '//*[@id=\"main\"]/div[2]/table/tbody/tr[18]/td/div[2]/div[4]/div/div[2]/button').click() #送出訂單"
   ]
  }
 ],
 "metadata": {
  "kernelspec": {
   "display_name": "Python 3 (ipykernel)",
   "language": "python",
   "name": "python3"
  },
  "language_info": {
   "codemirror_mode": {
    "name": "ipython",
    "version": 3
   },
   "file_extension": ".py",
   "mimetype": "text/x-python",
   "name": "python",
   "nbconvert_exporter": "python",
   "pygments_lexer": "ipython3",
   "version": "3.9.13"
  }
 },
 "nbformat": 4,
 "nbformat_minor": 5
}
