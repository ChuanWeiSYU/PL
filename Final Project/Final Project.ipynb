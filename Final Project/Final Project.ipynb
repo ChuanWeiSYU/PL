{
 "cells": [
  {
   "cell_type": "code",
   "execution_count": 1,
   "id": "5186bef6",
   "metadata": {},
   "outputs": [],
   "source": [
    "#pip install Selenium"
   ]
  },
  {
   "cell_type": "code",
   "execution_count": 2,
   "id": "aea53121",
   "metadata": {},
   "outputs": [
    {
     "name": "stderr",
     "output_type": "stream",
     "text": [
      "C:\\Users\\wayan\\AppData\\Local\\Temp\\ipykernel_24100\\2719116538.py:6: DeprecationWarning: executable_path has been deprecated, please pass in a Service object\n",
      "  driver = webdriver.Chrome('./chromedriver')\n"
     ]
    }
   ],
   "source": [
    "from selenium import webdriver #加載webdriver並用執行selenium執行\n",
    "from selenium.webdriver.chrome.options import Options\n",
    "from selenium.webdriver.common.by import By #這行非常重要，讀取項目類型\n",
    "from selenium.webdriver.support.ui import Select #這行非常重要，讀取選單\n",
    "import datetime #如果打算全自動可忽略\n",
    "import time #如果打算全自動可忽略\n",
    "#另外，須至https://chromedriver.chromium.org/downloads下載與chrome版本對應的chromedriver\n",
    "driver = webdriver.Chrome('./chromedriver')\n",
    "driver.get('https://hehuanline.forest.gov.tw/user/?mode=login') \n",
    "#先進入登入介面，因為登入是最可以預先進行的操作"
   ]
  },
  {
   "cell_type": "code",
   "execution_count": 3,
   "id": "778642e7",
   "metadata": {},
   "outputs": [],
   "source": [
    "# 帳號密碼的登入\n",
    "User = driver.find_element(By.ID, \"is_uu\") #舊版driver.find_element_by_id()格式已失效\n",
    "User.clear() #清除可能的自動填入(更主要的是避免鑰匙圈搞事)\n",
    "User.send_keys('wayan500') #輸入帳號\n",
    "Pw = driver.find_element(By.ID, \"is_pp\")\n",
    "Pw.clear() #同上\n",
    "Pw.send_keys('Vm3tj06jo3') #輸入密碼\n",
    "driver.find_element(By.ID, \"login-form-submit\").click()\n",
    "#到這裡登入完成"
   ]
  },
  {
   "cell_type": "code",
   "execution_count": null,
   "id": "27fc1fe6",
   "metadata": {},
   "outputs": [],
   "source": [
    "# 設定特定時間(通常是系統開放的時間)\n",
    "target_time = datetime.datetime(2023,6,1,8,0) #設定為特定時間，這裡以2023年6月1日早上8點為例\n",
    "\n",
    "# 等待到達特定時間\n",
    "while datetime.datetime.now() < target_time:\n",
    "    time.sleep(1)"
   ]
  },
  {
   "cell_type": "code",
   "execution_count": 4,
   "id": "20e9cc27",
   "metadata": {},
   "outputs": [
    {
     "name": "stdout",
     "output_type": "stream",
     "text": [
      "請選擇\n",
      "1\n",
      "2\n",
      "3\n",
      "4\n",
      "5\n",
      "6\n",
      "7\n",
      "8\n",
      "9\n",
      "10\n"
     ]
    }
   ],
   "source": [
    "#接下來進入訂房\n",
    "CheckIn = '2023-06-10' #輸入想要入住的日期\n",
    "CheckOut = '2023-06-11' #輸入想要退房的日期\n",
    "Room = '1' #輸入房間數量\n",
    "#上面要先輸入再執行這個cell\n",
    "driver.get('https://hehuanline.forest.gov.tw/room/?mode=rule&date_start='+CheckIn) #這網頁實在很蠢，好歹加密一下\n",
    "driver.find_element(By.XPATH, '//*[@id=\"is-content\"]/div/a[1]').click()\n",
    "Out = driver.find_element(By.ID, \"date_end\")\n",
    "Out.send_keys(CheckOut)\n",
    "#下面進入麻煩的下拉式選單的操作\n",
    "Menu = driver.find_element(By.NAME, \"num[212]\")\n",
    "options_list = Select(Menu).options\n",
    "# 用迴圈把文本內容讀取出來\n",
    "for option in options_list:\n",
    "    print(option.text)  # 印出所有可選擇的項目，可跳過或者註解掉\n",
    "Select(Menu).select_by_value(Room)"
   ]
  },
  {
   "cell_type": "code",
   "execution_count": 5,
   "id": "b607390f",
   "metadata": {},
   "outputs": [
    {
     "ename": "NoSuchElementException",
     "evalue": "Message: no such element: Unable to locate element: {\"method\":\"css selector\",\"selector\":\"[id=\"payment_22\"]\"}\n  (Session info: chrome=113.0.5672.127)\nStacktrace:\nBacktrace:\n\tGetHandleVerifier [0x00AC8893+48451]\n\t(No symbol) [0x00A5B8A1]\n\t(No symbol) [0x00965058]\n\t(No symbol) [0x00990467]\n\t(No symbol) [0x0099069B]\n\t(No symbol) [0x009BDD92]\n\t(No symbol) [0x009AA304]\n\t(No symbol) [0x009BC482]\n\t(No symbol) [0x009AA0B6]\n\t(No symbol) [0x00987E08]\n\t(No symbol) [0x00988F2D]\n\tGetHandleVerifier [0x00D28E3A+2540266]\n\tGetHandleVerifier [0x00D68959+2801161]\n\tGetHandleVerifier [0x00D6295C+2776588]\n\tGetHandleVerifier [0x00B52280+612144]\n\t(No symbol) [0x00A64F6C]\n\t(No symbol) [0x00A611D8]\n\t(No symbol) [0x00A612BB]\n\t(No symbol) [0x00A54857]\n\tBaseThreadInitThunk [0x75D500C9+25]\n\tRtlGetAppContainerNamedObjectPath [0x77AF7B4E+286]\n\tRtlGetAppContainerNamedObjectPath [0x77AF7B1E+238]\n",
     "output_type": "error",
     "traceback": [
      "\u001b[1;31m---------------------------------------------------------------------------\u001b[0m",
      "\u001b[1;31mNoSuchElementException\u001b[0m                    Traceback (most recent call last)",
      "\u001b[1;32m~\\AppData\\Local\\Temp\\ipykernel_24100\\2998038310.py\u001b[0m in \u001b[0;36m<module>\u001b[1;34m\u001b[0m\n\u001b[0;32m      1\u001b[0m \u001b[1;31m#接下來最後三步操作\u001b[0m\u001b[1;33m\u001b[0m\u001b[1;33m\u001b[0m\u001b[0m\n\u001b[0;32m      2\u001b[0m \u001b[0mdriver\u001b[0m\u001b[1;33m.\u001b[0m\u001b[0mfind_element\u001b[0m\u001b[1;33m(\u001b[0m\u001b[0mBy\u001b[0m\u001b[1;33m.\u001b[0m\u001b[0mXPATH\u001b[0m\u001b[1;33m,\u001b[0m \u001b[1;34m'//*[@id=\"button_roomsubmit\"]'\u001b[0m\u001b[1;33m)\u001b[0m\u001b[1;33m.\u001b[0m\u001b[0mclick\u001b[0m\u001b[1;33m(\u001b[0m\u001b[1;33m)\u001b[0m \u001b[1;31m#確認訂房\u001b[0m\u001b[1;33m\u001b[0m\u001b[1;33m\u001b[0m\u001b[0m\n\u001b[1;32m----> 3\u001b[1;33m \u001b[0mdriver\u001b[0m\u001b[1;33m.\u001b[0m\u001b[0mfind_element\u001b[0m\u001b[1;33m(\u001b[0m\u001b[0mBy\u001b[0m\u001b[1;33m.\u001b[0m\u001b[0mID\u001b[0m\u001b[1;33m,\u001b[0m \u001b[1;34m'payment_22'\u001b[0m\u001b[1;33m)\u001b[0m\u001b[1;33m.\u001b[0m\u001b[0mclick\u001b[0m\u001b[1;33m(\u001b[0m\u001b[1;33m)\u001b[0m \u001b[1;31m#確認付款方式\u001b[0m\u001b[1;33m\u001b[0m\u001b[1;33m\u001b[0m\u001b[0m\n\u001b[0m\u001b[0;32m      4\u001b[0m \u001b[0mdriver\u001b[0m\u001b[1;33m.\u001b[0m\u001b[0mfind_element\u001b[0m\u001b[1;33m(\u001b[0m\u001b[0mBy\u001b[0m\u001b[1;33m.\u001b[0m\u001b[0mXPATH\u001b[0m\u001b[1;33m,\u001b[0m \u001b[1;34m'//*[@id=\"main\"]/div[2]/table/tbody/tr[18]/td/div[2]/div[4]/div/div[2]/button'\u001b[0m\u001b[1;33m)\u001b[0m\u001b[1;33m.\u001b[0m\u001b[0mclick\u001b[0m\u001b[1;33m(\u001b[0m\u001b[1;33m)\u001b[0m \u001b[1;31m#送出訂單\u001b[0m\u001b[1;33m\u001b[0m\u001b[1;33m\u001b[0m\u001b[0m\n",
      "\u001b[1;32m~\\anaconda3\\lib\\site-packages\\selenium\\webdriver\\remote\\webdriver.py\u001b[0m in \u001b[0;36mfind_element\u001b[1;34m(self, by, value)\u001b[0m\n\u001b[0;32m    829\u001b[0m             \u001b[0mvalue\u001b[0m \u001b[1;33m=\u001b[0m \u001b[1;34mf'[name=\"{value}\"]'\u001b[0m\u001b[1;33m\u001b[0m\u001b[1;33m\u001b[0m\u001b[0m\n\u001b[0;32m    830\u001b[0m \u001b[1;33m\u001b[0m\u001b[0m\n\u001b[1;32m--> 831\u001b[1;33m         \u001b[1;32mreturn\u001b[0m \u001b[0mself\u001b[0m\u001b[1;33m.\u001b[0m\u001b[0mexecute\u001b[0m\u001b[1;33m(\u001b[0m\u001b[0mCommand\u001b[0m\u001b[1;33m.\u001b[0m\u001b[0mFIND_ELEMENT\u001b[0m\u001b[1;33m,\u001b[0m \u001b[1;33m{\u001b[0m\u001b[1;34m\"using\"\u001b[0m\u001b[1;33m:\u001b[0m \u001b[0mby\u001b[0m\u001b[1;33m,\u001b[0m \u001b[1;34m\"value\"\u001b[0m\u001b[1;33m:\u001b[0m \u001b[0mvalue\u001b[0m\u001b[1;33m}\u001b[0m\u001b[1;33m)\u001b[0m\u001b[1;33m[\u001b[0m\u001b[1;34m\"value\"\u001b[0m\u001b[1;33m]\u001b[0m\u001b[1;33m\u001b[0m\u001b[1;33m\u001b[0m\u001b[0m\n\u001b[0m\u001b[0;32m    832\u001b[0m \u001b[1;33m\u001b[0m\u001b[0m\n\u001b[0;32m    833\u001b[0m     \u001b[1;32mdef\u001b[0m \u001b[0mfind_elements\u001b[0m\u001b[1;33m(\u001b[0m\u001b[0mself\u001b[0m\u001b[1;33m,\u001b[0m \u001b[0mby\u001b[0m\u001b[1;33m=\u001b[0m\u001b[0mBy\u001b[0m\u001b[1;33m.\u001b[0m\u001b[0mID\u001b[0m\u001b[1;33m,\u001b[0m \u001b[0mvalue\u001b[0m\u001b[1;33m:\u001b[0m \u001b[0mOptional\u001b[0m\u001b[1;33m[\u001b[0m\u001b[0mstr\u001b[0m\u001b[1;33m]\u001b[0m \u001b[1;33m=\u001b[0m \u001b[1;32mNone\u001b[0m\u001b[1;33m)\u001b[0m \u001b[1;33m->\u001b[0m \u001b[0mList\u001b[0m\u001b[1;33m[\u001b[0m\u001b[0mWebElement\u001b[0m\u001b[1;33m]\u001b[0m\u001b[1;33m:\u001b[0m\u001b[1;33m\u001b[0m\u001b[1;33m\u001b[0m\u001b[0m\n",
      "\u001b[1;32m~\\anaconda3\\lib\\site-packages\\selenium\\webdriver\\remote\\webdriver.py\u001b[0m in \u001b[0;36mexecute\u001b[1;34m(self, driver_command, params)\u001b[0m\n\u001b[0;32m    438\u001b[0m         \u001b[0mresponse\u001b[0m \u001b[1;33m=\u001b[0m \u001b[0mself\u001b[0m\u001b[1;33m.\u001b[0m\u001b[0mcommand_executor\u001b[0m\u001b[1;33m.\u001b[0m\u001b[0mexecute\u001b[0m\u001b[1;33m(\u001b[0m\u001b[0mdriver_command\u001b[0m\u001b[1;33m,\u001b[0m \u001b[0mparams\u001b[0m\u001b[1;33m)\u001b[0m\u001b[1;33m\u001b[0m\u001b[1;33m\u001b[0m\u001b[0m\n\u001b[0;32m    439\u001b[0m         \u001b[1;32mif\u001b[0m \u001b[0mresponse\u001b[0m\u001b[1;33m:\u001b[0m\u001b[1;33m\u001b[0m\u001b[1;33m\u001b[0m\u001b[0m\n\u001b[1;32m--> 440\u001b[1;33m             \u001b[0mself\u001b[0m\u001b[1;33m.\u001b[0m\u001b[0merror_handler\u001b[0m\u001b[1;33m.\u001b[0m\u001b[0mcheck_response\u001b[0m\u001b[1;33m(\u001b[0m\u001b[0mresponse\u001b[0m\u001b[1;33m)\u001b[0m\u001b[1;33m\u001b[0m\u001b[1;33m\u001b[0m\u001b[0m\n\u001b[0m\u001b[0;32m    441\u001b[0m             \u001b[0mresponse\u001b[0m\u001b[1;33m[\u001b[0m\u001b[1;34m\"value\"\u001b[0m\u001b[1;33m]\u001b[0m \u001b[1;33m=\u001b[0m \u001b[0mself\u001b[0m\u001b[1;33m.\u001b[0m\u001b[0m_unwrap_value\u001b[0m\u001b[1;33m(\u001b[0m\u001b[0mresponse\u001b[0m\u001b[1;33m.\u001b[0m\u001b[0mget\u001b[0m\u001b[1;33m(\u001b[0m\u001b[1;34m\"value\"\u001b[0m\u001b[1;33m,\u001b[0m \u001b[1;32mNone\u001b[0m\u001b[1;33m)\u001b[0m\u001b[1;33m)\u001b[0m\u001b[1;33m\u001b[0m\u001b[1;33m\u001b[0m\u001b[0m\n\u001b[0;32m    442\u001b[0m             \u001b[1;32mreturn\u001b[0m \u001b[0mresponse\u001b[0m\u001b[1;33m\u001b[0m\u001b[1;33m\u001b[0m\u001b[0m\n",
      "\u001b[1;32m~\\anaconda3\\lib\\site-packages\\selenium\\webdriver\\remote\\errorhandler.py\u001b[0m in \u001b[0;36mcheck_response\u001b[1;34m(self, response)\u001b[0m\n\u001b[0;32m    243\u001b[0m                 \u001b[0malert_text\u001b[0m \u001b[1;33m=\u001b[0m \u001b[0mvalue\u001b[0m\u001b[1;33m[\u001b[0m\u001b[1;34m\"alert\"\u001b[0m\u001b[1;33m]\u001b[0m\u001b[1;33m.\u001b[0m\u001b[0mget\u001b[0m\u001b[1;33m(\u001b[0m\u001b[1;34m\"text\"\u001b[0m\u001b[1;33m)\u001b[0m\u001b[1;33m\u001b[0m\u001b[1;33m\u001b[0m\u001b[0m\n\u001b[0;32m    244\u001b[0m             \u001b[1;32mraise\u001b[0m \u001b[0mexception_class\u001b[0m\u001b[1;33m(\u001b[0m\u001b[0mmessage\u001b[0m\u001b[1;33m,\u001b[0m \u001b[0mscreen\u001b[0m\u001b[1;33m,\u001b[0m \u001b[0mstacktrace\u001b[0m\u001b[1;33m,\u001b[0m \u001b[0malert_text\u001b[0m\u001b[1;33m)\u001b[0m  \u001b[1;31m# type: ignore[call-arg]  # mypy is not smart enough here\u001b[0m\u001b[1;33m\u001b[0m\u001b[1;33m\u001b[0m\u001b[0m\n\u001b[1;32m--> 245\u001b[1;33m         \u001b[1;32mraise\u001b[0m \u001b[0mexception_class\u001b[0m\u001b[1;33m(\u001b[0m\u001b[0mmessage\u001b[0m\u001b[1;33m,\u001b[0m \u001b[0mscreen\u001b[0m\u001b[1;33m,\u001b[0m \u001b[0mstacktrace\u001b[0m\u001b[1;33m)\u001b[0m\u001b[1;33m\u001b[0m\u001b[1;33m\u001b[0m\u001b[0m\n\u001b[0m",
      "\u001b[1;31mNoSuchElementException\u001b[0m: Message: no such element: Unable to locate element: {\"method\":\"css selector\",\"selector\":\"[id=\"payment_22\"]\"}\n  (Session info: chrome=113.0.5672.127)\nStacktrace:\nBacktrace:\n\tGetHandleVerifier [0x00AC8893+48451]\n\t(No symbol) [0x00A5B8A1]\n\t(No symbol) [0x00965058]\n\t(No symbol) [0x00990467]\n\t(No symbol) [0x0099069B]\n\t(No symbol) [0x009BDD92]\n\t(No symbol) [0x009AA304]\n\t(No symbol) [0x009BC482]\n\t(No symbol) [0x009AA0B6]\n\t(No symbol) [0x00987E08]\n\t(No symbol) [0x00988F2D]\n\tGetHandleVerifier [0x00D28E3A+2540266]\n\tGetHandleVerifier [0x00D68959+2801161]\n\tGetHandleVerifier [0x00D6295C+2776588]\n\tGetHandleVerifier [0x00B52280+612144]\n\t(No symbol) [0x00A64F6C]\n\t(No symbol) [0x00A611D8]\n\t(No symbol) [0x00A612BB]\n\t(No symbol) [0x00A54857]\n\tBaseThreadInitThunk [0x75D500C9+25]\n\tRtlGetAppContainerNamedObjectPath [0x77AF7B4E+286]\n\tRtlGetAppContainerNamedObjectPath [0x77AF7B1E+238]\n"
     ]
    }
   ],
   "source": [
    "#接下來最後三步操作\n",
    "driver.find_element(By.XPATH, '//*[@id=\"button_roomsubmit\"]').click() #確認訂房\n",
    "driver.find_element(By.ID, 'payment_22').click() #確認付款方式\n",
    "driver.find_element(By.XPATH, '//*[@id=\"main\"]/div[2]/table/tbody/tr[18]/td/div[2]/div[4]/div/div[2]/button').click() #送出訂單"
   ]
  },
  {
   "cell_type": "code",
   "execution_count": null,
   "id": "821cadf1",
   "metadata": {},
   "outputs": [],
   "source": []
  }
 ],
 "metadata": {
  "kernelspec": {
   "display_name": "Python 3 (ipykernel)",
   "language": "python",
   "name": "python3"
  },
  "language_info": {
   "codemirror_mode": {
    "name": "ipython",
    "version": 3
   },
   "file_extension": ".py",
   "mimetype": "text/x-python",
   "name": "python",
   "nbconvert_exporter": "python",
   "pygments_lexer": "ipython3",
   "version": "3.9.13"
  }
 },
 "nbformat": 4,
 "nbformat_minor": 5
}
