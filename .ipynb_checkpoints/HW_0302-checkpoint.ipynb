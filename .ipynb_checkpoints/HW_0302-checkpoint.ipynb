{
 "cells": [
  {
   "cell_type": "code",
   "execution_count": 2,
   "id": "6b1ce66f",
   "metadata": {},
   "outputs": [
    {
     "ename": "SyntaxError",
     "evalue": "invalid syntax (2989742734.py, line 1)",
     "output_type": "error",
     "traceback": [
      "\u001b[1;36m  File \u001b[1;32m\"C:\\Users\\Administrator\\AppData\\Local\\Temp\\ipykernel_13644\\2989742734.py\"\u001b[1;36m, line \u001b[1;32m1\u001b[0m\n\u001b[1;33m    list L1=['幹你娘','師大','垃圾','網路']\u001b[0m\n\u001b[1;37m         ^\u001b[0m\n\u001b[1;31mSyntaxError\u001b[0m\u001b[1;31m:\u001b[0m invalid syntax\n"
     ]
    }
   ],
   "source": [
    "#匯入csv檔案\n",
    "#\n",
    "import pandas as pd\n",
    "\n",
    "data1 = pd.read_csv(\"data1.csv\",encoding=\"Big5\")\n",
    "data1"
   ]
  },
  {
   "cell_type": "code",
   "execution_count": null,
   "id": "740d720d",
   "metadata": {},
   "outputs": [],
   "source": [
    "list L2=['草尼瑪','師大','混帳','訊號']"
   ]
  },
  {
   "cell_type": "code",
   "execution_count": null,
   "id": "e7b1df65",
   "metadata": {},
   "outputs": [],
   "source": [
    "print(L1&L2)"
   ]
  },
  {
   "cell_type": "code",
   "execution_count": null,
   "id": "e0acd86f",
   "metadata": {},
   "outputs": [],
   "source": []
  },
  {
   "cell_type": "code",
   "execution_count": null,
   "id": "69bcb9e2",
   "metadata": {},
   "outputs": [],
   "source": []
  }
 ],
 "metadata": {
  "kernelspec": {
   "display_name": "Python 3 (ipykernel)",
   "language": "python",
   "name": "python3"
  },
  "language_info": {
   "codemirror_mode": {
    "name": "ipython",
    "version": 3
   },
   "file_extension": ".py",
   "mimetype": "text/x-python",
   "name": "python",
   "nbconvert_exporter": "python",
   "pygments_lexer": "ipython3",
   "version": "3.9.13"
  }
 },
 "nbformat": 4,
 "nbformat_minor": 5
}
