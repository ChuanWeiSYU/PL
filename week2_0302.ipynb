{
 "cells": [
  {
   "cell_type": "code",
   "execution_count": 1,
   "id": "276781f7",
   "metadata": {},
   "outputs": [
    {
     "data": {
      "text/html": [
       "<div>\n",
       "<style scoped>\n",
       "    .dataframe tbody tr th:only-of-type {\n",
       "        vertical-align: middle;\n",
       "    }\n",
       "\n",
       "    .dataframe tbody tr th {\n",
       "        vertical-align: top;\n",
       "    }\n",
       "\n",
       "    .dataframe thead th {\n",
       "        text-align: right;\n",
       "    }\n",
       "</style>\n",
       "<table border=\"1\" class=\"dataframe\">\n",
       "  <thead>\n",
       "    <tr style=\"text-align: right;\">\n",
       "      <th></th>\n",
       "      <th>排名</th>\n",
       "      <th>drama/variety show</th>\n",
       "    </tr>\n",
       "  </thead>\n",
       "  <tbody>\n",
       "    <tr>\n",
       "      <th>0</th>\n",
       "      <td>1</td>\n",
       "      <td>師大</td>\n",
       "    </tr>\n",
       "    <tr>\n",
       "      <th>1</th>\n",
       "      <td>2</td>\n",
       "      <td>網路</td>\n",
       "    </tr>\n",
       "    <tr>\n",
       "      <th>2</th>\n",
       "      <td>3</td>\n",
       "      <td>真他媽</td>\n",
       "    </tr>\n",
       "    <tr>\n",
       "      <th>3</th>\n",
       "      <td>4</td>\n",
       "      <td>有夠</td>\n",
       "    </tr>\n",
       "    <tr>\n",
       "      <th>4</th>\n",
       "      <td>5</td>\n",
       "      <td>垃圾</td>\n",
       "    </tr>\n",
       "    <tr>\n",
       "      <th>5</th>\n",
       "      <td>6</td>\n",
       "      <td>耗了我</td>\n",
       "    </tr>\n",
       "    <tr>\n",
       "      <th>6</th>\n",
       "      <td>7</td>\n",
       "      <td>半節課</td>\n",
       "    </tr>\n",
       "    <tr>\n",
       "      <th>7</th>\n",
       "      <td>8</td>\n",
       "      <td>氣死我</td>\n",
       "    </tr>\n",
       "    <tr>\n",
       "      <th>8</th>\n",
       "      <td>9</td>\n",
       "      <td>王八蛋</td>\n",
       "    </tr>\n",
       "    <tr>\n",
       "      <th>9</th>\n",
       "      <td>10</td>\n",
       "      <td>媽媽咪阿</td>\n",
       "    </tr>\n",
       "  </tbody>\n",
       "</table>\n",
       "</div>"
      ],
      "text/plain": [
       "   排名 drama/variety show\n",
       "0   1                 師大\n",
       "1   2                 網路\n",
       "2   3                真他媽\n",
       "3   4                 有夠\n",
       "4   5                 垃圾\n",
       "5   6                耗了我\n",
       "6   7                半節課\n",
       "7   8                氣死我\n",
       "8   9                王八蛋\n",
       "9  10               媽媽咪阿"
      ]
     },
     "execution_count": 1,
     "metadata": {},
     "output_type": "execute_result"
    }
   ],
   "source": [
    "#匯入csv檔案\n",
    "#2021韓國Netflix戲劇/綜藝榜單\n",
    "import pandas as pd\n",
    "\n",
    "data1 = pd.read_csv(\"data1.csv\",encoding=\"Big5\")\n",
    "data1"
   ]
  },
  {
   "cell_type": "code",
   "execution_count": 2,
   "id": "f94841d7",
   "metadata": {},
   "outputs": [
    {
     "data": {
      "text/html": [
       "<div>\n",
       "<style scoped>\n",
       "    .dataframe tbody tr th:only-of-type {\n",
       "        vertical-align: middle;\n",
       "    }\n",
       "\n",
       "    .dataframe tbody tr th {\n",
       "        vertical-align: top;\n",
       "    }\n",
       "\n",
       "    .dataframe thead th {\n",
       "        text-align: right;\n",
       "    }\n",
       "</style>\n",
       "<table border=\"1\" class=\"dataframe\">\n",
       "  <thead>\n",
       "    <tr style=\"text-align: right;\">\n",
       "      <th></th>\n",
       "      <th>排名</th>\n",
       "      <th>drama/variety show</th>\n",
       "    </tr>\n",
       "  </thead>\n",
       "  <tbody>\n",
       "    <tr>\n",
       "      <th>0</th>\n",
       "      <td>1</td>\n",
       "      <td>繳了學費</td>\n",
       "    </tr>\n",
       "    <tr>\n",
       "      <th>1</th>\n",
       "      <td>2</td>\n",
       "      <td>就換來</td>\n",
       "    </tr>\n",
       "    <tr>\n",
       "      <th>2</th>\n",
       "      <td>3</td>\n",
       "      <td>這種</td>\n",
       "    </tr>\n",
       "    <tr>\n",
       "      <th>3</th>\n",
       "      <td>4</td>\n",
       "      <td>垃圾</td>\n",
       "    </tr>\n",
       "    <tr>\n",
       "      <th>4</th>\n",
       "      <td>5</td>\n",
       "      <td>師大</td>\n",
       "    </tr>\n",
       "    <tr>\n",
       "      <th>5</th>\n",
       "      <td>6</td>\n",
       "      <td>優秀</td>\n",
       "    </tr>\n",
       "    <tr>\n",
       "      <th>6</th>\n",
       "      <td>7</td>\n",
       "      <td>網路</td>\n",
       "    </tr>\n",
       "    <tr>\n",
       "      <th>7</th>\n",
       "      <td>8</td>\n",
       "      <td>王八蛋</td>\n",
       "    </tr>\n",
       "    <tr>\n",
       "      <th>8</th>\n",
       "      <td>9</td>\n",
       "      <td>氣死人</td>\n",
       "    </tr>\n",
       "    <tr>\n",
       "      <th>9</th>\n",
       "      <td>10</td>\n",
       "      <td>媽的</td>\n",
       "    </tr>\n",
       "  </tbody>\n",
       "</table>\n",
       "</div>"
      ],
      "text/plain": [
       "   排名 drama/variety show\n",
       "0   1               繳了學費\n",
       "1   2                就換來\n",
       "2   3                 這種\n",
       "3   4                 垃圾\n",
       "4   5                 師大\n",
       "5   6                 優秀\n",
       "6   7                 網路\n",
       "7   8                王八蛋\n",
       "8   9                氣死人\n",
       "9  10                 媽的"
      ]
     },
     "execution_count": 2,
     "metadata": {},
     "output_type": "execute_result"
    }
   ],
   "source": [
    "#2021台灣Netflix戲劇/綜藝榜單\n",
    "data2 = pd.read_csv(\"data2.csv\",encoding=\"Big5\")\n",
    "data2"
   ]
  },
  {
   "cell_type": "code",
   "execution_count": 3,
   "id": "1c363883",
   "metadata": {},
   "outputs": [
    {
     "data": {
      "text/plain": [
       "{'半節課', '垃圾', '媽媽咪阿', '師大', '有夠', '氣死我', '王八蛋', '真他媽', '網路', '耗了我'}"
      ]
     },
     "execution_count": 3,
     "metadata": {},
     "output_type": "execute_result"
    }
   ],
   "source": [
    "#列出子集合\n",
    "set_data1 = set(data1[\"drama/variety show\"])\n",
    "set_data1"
   ]
  },
  {
   "cell_type": "code",
   "execution_count": 4,
   "id": "d27fb9a9",
   "metadata": {},
   "outputs": [
    {
     "data": {
      "text/plain": [
       "{'優秀', '垃圾', '媽的', '就換來', '師大', '氣死人', '王八蛋', '網路', '繳了學費', '這種'}"
      ]
     },
     "execution_count": 4,
     "metadata": {},
     "output_type": "execute_result"
    }
   ],
   "source": [
    "set_data2 = set(data2[\"drama/variety show\"])\n",
    "set_data2"
   ]
  },
  {
   "cell_type": "code",
   "execution_count": 5,
   "id": "4e103335",
   "metadata": {},
   "outputs": [
    {
     "data": {
      "text/plain": [
       "{'垃圾', '師大', '王八蛋', '網路'}"
      ]
     },
     "execution_count": 5,
     "metadata": {},
     "output_type": "execute_result"
    }
   ],
   "source": [
    "#交集\n",
    "#2021韓國和台灣Netflix同時上榜的戲劇/綜藝\n",
    "(set_data1 & set_data2)"
   ]
  },
  {
   "cell_type": "code",
   "execution_count": 6,
   "id": "a417b99a",
   "metadata": {},
   "outputs": [
    {
     "data": {
      "text/plain": [
       "{'優秀',\n",
       " '半節課',\n",
       " '垃圾',\n",
       " '媽媽咪阿',\n",
       " '媽的',\n",
       " '就換來',\n",
       " '師大',\n",
       " '有夠',\n",
       " '氣死人',\n",
       " '氣死我',\n",
       " '王八蛋',\n",
       " '真他媽',\n",
       " '網路',\n",
       " '繳了學費',\n",
       " '耗了我',\n",
       " '這種'}"
      ]
     },
     "execution_count": 6,
     "metadata": {},
     "output_type": "execute_result"
    }
   ],
   "source": [
    "#聯集\n",
    "#2021韓國和台灣Netflix有上榜的戲劇/綜藝\n",
    "(set_data1 | set_data2)"
   ]
  },
  {
   "cell_type": "code",
   "execution_count": 7,
   "id": "224090a6",
   "metadata": {},
   "outputs": [
    {
     "data": {
      "text/plain": [
       "{'半節課', '媽媽咪阿', '有夠', '氣死我', '真他媽', '耗了我'}"
      ]
     },
     "execution_count": 7,
     "metadata": {},
     "output_type": "execute_result"
    }
   ],
   "source": [
    "#差集\n",
    "#2021韓國Netflix有上榜但台灣沒有的戲劇/綜藝\n",
    "(set_data1 - (set_data1 & set_data2))"
   ]
  },
  {
   "cell_type": "code",
   "execution_count": 8,
   "id": "15b0dbb7",
   "metadata": {},
   "outputs": [
    {
     "data": {
      "text/plain": [
       "{'優秀',\n",
       " '半節課',\n",
       " '垃圾',\n",
       " '媽媽咪阿',\n",
       " '媽的',\n",
       " '就換來',\n",
       " '師大',\n",
       " '有夠',\n",
       " '氣死人',\n",
       " '氣死我',\n",
       " '王八蛋',\n",
       " '真他媽',\n",
       " '網路',\n",
       " '繳了學費',\n",
       " '耗了我',\n",
       " '這種'}"
      ]
     },
     "execution_count": 8,
     "metadata": {},
     "output_type": "execute_result"
    }
   ],
   "source": [
    "#對稱差集\n",
    "#2021只有韓國Netflix或只有台灣Netflix上榜的戲劇/綜藝\n",
    "(set_data1 | set_data2 - (set_data1 & set_data2))"
   ]
  },
  {
   "cell_type": "code",
   "execution_count": null,
   "id": "1c0bf2cf",
   "metadata": {},
   "outputs": [],
   "source": []
  }
 ],
 "metadata": {
  "kernelspec": {
   "display_name": "Python 3 (ipykernel)",
   "language": "python",
   "name": "python3"
  },
  "language_info": {
   "codemirror_mode": {
    "name": "ipython",
    "version": 3
   },
   "file_extension": ".py",
   "mimetype": "text/x-python",
   "name": "python",
   "nbconvert_exporter": "python",
   "pygments_lexer": "ipython3",
   "version": "3.9.13"
  }
 },
 "nbformat": 4,
 "nbformat_minor": 5
}
