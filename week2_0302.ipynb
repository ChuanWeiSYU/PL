{
 "cells": [
  {
   "cell_type": "code",
   "execution_count": 1,
   "id": "aba19375",
   "metadata": {},
   "outputs": [
    {
     "name": "stdout",
     "output_type": "stream",
     "text": [
      "請輸入你的出生年月日(西元)\n"
     ]
    }
   ],
   "source": [
    "print('請輸入你的出生年月日(西元)')"
   ]
  },
  {
   "cell_type": "code",
   "execution_count": 2,
   "id": "51676cab",
   "metadata": {},
   "outputs": [
    {
     "name": "stdout",
     "output_type": "stream",
     "text": [
      "請輸入：19960922\n"
     ]
    }
   ],
   "source": [
    "a = int(input('請輸入：'))"
   ]
  },
  {
   "cell_type": "code",
   "execution_count": 3,
   "id": "a4b771bc",
   "metadata": {},
   "outputs": [
    {
     "data": {
      "text/plain": [
       "'19960922'"
      ]
     },
     "execution_count": 3,
     "metadata": {},
     "output_type": "execute_result"
    }
   ],
   "source": [
    "b = str(a)\n",
    "b"
   ]
  },
  {
   "cell_type": "code",
   "execution_count": 5,
   "id": "9444b9e5",
   "metadata": {},
   "outputs": [
    {
     "data": {
      "text/plain": [
       "8"
      ]
     },
     "execution_count": 5,
     "metadata": {},
     "output_type": "execute_result"
    }
   ],
   "source": [
    "length=len(b)\n",
    "length"
   ]
  },
  {
   "cell_type": "code",
   "execution_count": null,
   "id": "1a32c2aa",
   "metadata": {},
   "outputs": [],
   "source": []
  }
 ],
 "metadata": {
  "kernelspec": {
   "display_name": "Python 3 (ipykernel)",
   "language": "python",
   "name": "python3"
  },
  "language_info": {
   "codemirror_mode": {
    "name": "ipython",
    "version": 3
   },
   "file_extension": ".py",
   "mimetype": "text/x-python",
   "name": "python",
   "nbconvert_exporter": "python",
   "pygments_lexer": "ipython3",
   "version": "3.9.13"
  }
 },
 "nbformat": 4,
 "nbformat_minor": 5
}
