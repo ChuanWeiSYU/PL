{
 "cells": [
  {
   "cell_type": "code",
   "execution_count": 1,
   "id": "5f210580",
   "metadata": {},
   "outputs": [],
   "source": [
    "import pandas as pd #引入pandas 套件\n",
    "import requests #引入爬蟲用套件\n",
    "import matplotlib.pyplot as plt #引入繪圖用套件\n",
    "#import geopandas #引入擴展DS用的套件←不能用，可能是Jupyter不支援等等問題\n",
    "import plotly.express as px #上一行的替代方案，繪圖擴展\n",
    "#使用數據集「美國各州大學平均學費」(Average cost of undergraduate student by state USA)\n",
    "USU= pd.read_csv(\"nces330_20.csv\" ,encoding=\"ASCII\" )"
   ]
  },
  {
   "cell_type": "code",
   "execution_count": 2,
   "id": "2fda321a",
   "metadata": {},
   "outputs": [
    {
     "name": "stdout",
     "output_type": "stream",
     "text": [
      "2021美國一學期大學學費為： 18323.97609561753 USD\n"
     ]
    }
   ],
   "source": [
    "#最新一年四年制大學平均學費\n",
    "mask = (USU['Year'] == 2021) & (USU['Length'] == '4-year')\n",
    "filtered_df = USU.loc[mask]\n",
    "mean_value = filtered_df['Value'].mean()\n",
    "print('2021美國一學期大學學費為：',mean_value,'USD')"
   ]
  },
  {
   "cell_type": "code",
   "execution_count": 3,
   "id": "f14a24b8",
   "metadata": {
    "scrolled": true
   },
   "outputs": [
    {
     "name": "stdout",
     "output_type": "stream",
     "text": [
      "2021美國一學期大學學費為： 570333.7559760957 NTD\n"
     ]
    }
   ],
   "source": [
    "#將這些數據即時換算成台幣呢？\n",
    "url = 'https://rate.bot.com.tw/xrt/flcsv/0/day'   # 牌告匯率 CSV 網址\n",
    "rate = requests.get(url)   # 爬取網址內容\n",
    "rate.encoding = 'utf-8'    # 調整回應訊息編碼為 utf-8，避免編碼不同造成亂碼\n",
    "rt = rate.text             # 以文字模式讀取內容\n",
    "rts = rt.split('\\n')\n",
    "rts[1]\n",
    "a = rts[1].split(',')\n",
    "usd_to_twd_rate = a[12]\n",
    "mean_value_twd=mean_value*float(usd_to_twd_rate)\n",
    "print('2021美國一學期大學學費為：',mean_value_twd,'NTD')"
   ]
  },
  {
   "cell_type": "code",
   "execution_count": 4,
   "id": "2542786d",
   "metadata": {},
   "outputs": [
    {
     "name": "stdout",
     "output_type": "stream",
     "text": [
      "美國一學期私立大學學費為： 18810.480662983424 USD\n",
      "美國一學期公立大學學費為： 7676.8001543209875 USD\n",
      "美國一學期私立大學學費為： 585476.210635359 NTD\n",
      "美國一學期公立大學學費為： 238940.40480324073 NTD\n"
     ]
    }
   ],
   "source": [
    "#比較美國公立大學與私立大學學費差異\n",
    "mask1 = (USU['Type'] == 'Private') & (USU['Length'] == '4-year')\n",
    "Private_fee = USU.loc[mask1]\n",
    "mean_Private_fee = Private_fee['Value'].mean()\n",
    "print('美國一學期私立大學學費為：',mean_Private_fee,'USD')\n",
    "mask2 = (USU['Type'] == 'Public In-State') | (USU['Type'] == 'Public Out-State') & (USU['Length'] == '4-year')\n",
    "Other_fee = USU.loc[mask2]\n",
    "mean_Other_fee = Other_fee['Value'].mean()\n",
    "print('美國一學期公立大學學費為：',mean_Other_fee,'USD')\n",
    "print('美國一學期私立大學學費為：',mean_Private_fee*float(usd_to_twd_rate),'NTD')\n",
    "print('美國一學期公立大學學費為：',mean_Other_fee*float(usd_to_twd_rate),'NTD')"
   ]
  },
  {
   "cell_type": "code",
   "execution_count": 5,
   "id": "4d7c2506",
   "metadata": {},
   "outputs": [
    {
     "name": "stdout",
     "output_type": "stream",
     "text": [
      "2021年不同州的大学学费平均值：\n",
      "State\n",
      "New Hampshire           11164.884615\n",
      "Vermont                 10797.038462\n",
      "New Jersey              10009.000000\n",
      "Delaware                10005.285714\n",
      "Pennsylvania             9717.192308\n",
      "Massachusetts            9620.230769\n",
      "Connecticut              9324.769231\n",
      "Illinois                 9203.615385\n",
      "Rhode Island             9161.038462\n",
      "New York                 8935.307692\n",
      "Virginia                 8915.923077\n",
      "Oregon                   8475.538462\n",
      "South Carolina           8438.423077\n",
      "Minnesota                8293.000000\n",
      "Michigan                 8283.000000\n",
      "Ohio                     8282.230769\n",
      "Maryland                 8121.461538\n",
      "Colorado                 7987.846154\n",
      "Alaska                   7818.681818\n",
      "Arizona                  7786.538462\n",
      "California               7779.461538\n",
      "Washington               7755.576923\n",
      "Kentucky                 7707.576923\n",
      "Alabama                  7682.500000\n",
      "Indiana                  7662.807692\n",
      "Hawaii                   7637.461538\n",
      "Maine                    7616.538462\n",
      "Iowa                     7518.384615\n",
      "Tennessee                7324.576923\n",
      "South Dakota             7163.769231\n",
      "Louisiana                7044.346154\n",
      "Nevada                   6985.000000\n",
      "West Virginia            6909.653846\n",
      "Wisconsin                6892.230769\n",
      "Missouri                 6870.038462\n",
      "Nebraska                 6765.192308\n",
      "Georgia                  6729.961538\n",
      "Kansas                   6657.846154\n",
      "North Dakota             6606.192308\n",
      "Texas                    6528.461538\n",
      "Mississippi              6492.269231\n",
      "Arkansas                 6477.423077\n",
      "North Carolina           6266.153846\n",
      "Oklahoma                 6260.461538\n",
      "Montana                  6260.423077\n",
      "District of Columbia     6034.625000\n",
      "Idaho                    5965.384615\n",
      "Florida                  5808.538462\n",
      "Wyoming                  5729.153846\n",
      "Utah                     5721.384615\n",
      "New Mexico               5575.307692\n",
      "Name: Value, dtype: float64\n",
      "\n",
      "2021年不同州的大学学费中位数：\n",
      "State\n",
      "New Jersey              12274.5\n",
      "New Hampshire           11380.0\n",
      "Delaware                11278.0\n",
      "Connecticut             11122.0\n",
      "Vermont                 11048.5\n",
      "Massachusetts           11007.5\n",
      "Pennsylvania            10990.0\n",
      "Rhode Island            10910.0\n",
      "Illinois                10808.0\n",
      "Virginia                10052.0\n",
      "Arizona                  9880.5\n",
      "Michigan                 9807.5\n",
      "Ohio                     9792.0\n",
      "Oregon                   9572.5\n",
      "South Carolina           9357.0\n",
      "Maine                    9331.5\n",
      "Hawaii                   9259.5\n",
      "Colorado                 9136.0\n",
      "Maryland                 9012.5\n",
      "Indiana                  8810.5\n",
      "Alabama                  8807.5\n",
      "Minnesota                8704.0\n",
      "Kentucky                 8640.5\n",
      "California               8542.0\n",
      "Tennessee                8401.0\n",
      "Louisiana                8295.0\n",
      "Texas                    8233.0\n",
      "Missouri                 8177.0\n",
      "Iowa                     8120.0\n",
      "Alaska                   7759.0\n",
      "Wisconsin                7758.5\n",
      "New York                 7678.0\n",
      "Nebraska                 7589.0\n",
      "South Dakota             7574.0\n",
      "Kansas                   7556.5\n",
      "Washington               7475.0\n",
      "Arkansas                 7454.0\n",
      "Mississippi              7305.5\n",
      "West Virginia            7070.5\n",
      "North Carolina           7059.0\n",
      "Georgia                  7010.5\n",
      "North Dakota             6970.0\n",
      "Oklahoma                 6901.5\n",
      "Idaho                    6874.5\n",
      "New Mexico               6490.0\n",
      "Montana                  6473.0\n",
      "Utah                     6237.0\n",
      "Nevada                   5845.0\n",
      "District of Columbia     5822.0\n",
      "Florida                  4440.5\n",
      "Wyoming                  4244.5\n",
      "Name: Value, dtype: float64\n"
     ]
    }
   ],
   "source": [
    "#2021年不同州的公立大學學費\n",
    "# 按州分组，并计算每个州的学费平均值和中位数\n",
    "mean_by_state = Other_fee.groupby('State')['Value'].mean()\n",
    "median_by_state = Other_fee.groupby('State')['Value'].median()\n",
    "# 将平均值和中位数从大到小排序\n",
    "mean_sorted = mean_by_state.sort_values(ascending=False)\n",
    "median_sorted = median_by_state.sort_values(ascending=False)\n",
    "\n",
    "# 输出结果\n",
    "print('2021年不同州的大学学费平均值：')\n",
    "print(mean_sorted)\n",
    "print('\\n2021年不同州的大学学费中位数：')\n",
    "print(median_sorted)"
   ]
  },
  {
   "cell_type": "code",
   "execution_count": 6,
   "id": "7de476be",
   "metadata": {},
   "outputs": [
    {
     "name": "stdout",
     "output_type": "stream",
     "text": [
      "2021年不同州的大学学费平均值：\n",
      "State\n",
      "Massachusetts           28788.888889\n",
      "District of Columbia    27723.166667\n",
      "Vermont                 27107.944444\n",
      "Connecticut             26678.888889\n",
      "Rhode Island            26593.500000\n",
      "Maryland                26503.055556\n",
      "New York                26005.888889\n",
      "Pennsylvania            25787.111111\n",
      "Oregon                  24428.666667\n",
      "Maine                   24296.055556\n",
      "New Jersey              24123.111111\n",
      "Louisiana               23555.000000\n",
      "Washington              23524.000000\n",
      "California              22753.500000\n",
      "New Hampshire           21826.388889\n",
      "Illinois                21704.111111\n",
      "North Carolina          21317.611111\n",
      "Indiana                 21122.166667\n",
      "Texas                   21029.888889\n",
      "Wisconsin               20588.777778\n",
      "Ohio                    20573.555556\n",
      "Minnesota               20376.388889\n",
      "Georgia                 19382.500000\n",
      "Tennessee               17986.611111\n",
      "Nevada                  17868.222222\n",
      "Florida                 17841.222222\n",
      "Iowa                    17793.722222\n",
      "Colorado                17145.500000\n",
      "Oklahoma                17143.777778\n",
      "Michigan                16911.444444\n",
      "Kentucky                16847.277778\n",
      "Montana                 16748.888889\n",
      "South Carolina          16644.888889\n",
      "Wyoming                 16638.400000\n",
      "Missouri                16548.000000\n",
      "Virginia                16479.055556\n",
      "New Mexico              16189.111111\n",
      "Nebraska                15856.500000\n",
      "South Dakota            15272.444444\n",
      "Kansas                  14838.555556\n",
      "Arkansas                14791.833333\n",
      "Hawaii                  14475.388889\n",
      "Alaska                  13831.777778\n",
      "Delaware                12839.944444\n",
      "Alabama                 12561.888889\n",
      "Mississippi             12320.222222\n",
      "Arizona                 10955.111111\n",
      "North Dakota            10562.722222\n",
      "West Virginia           10417.888889\n",
      "Utah                     7742.944444\n",
      "Idaho                    6722.277778\n",
      "Name: Value, dtype: float64\n",
      "\n",
      "2021年不同州的大学学费中位数：\n",
      "State\n",
      "Massachusetts           26713.0\n",
      "District of Columbia    26372.0\n",
      "Connecticut             25515.0\n",
      "Vermont                 25100.5\n",
      "Rhode Island            24852.5\n",
      "New York                24115.0\n",
      "Pennsylvania            23690.0\n",
      "Maryland                23634.5\n",
      "Maine                   22790.0\n",
      "New Jersey              22587.5\n",
      "Oregon                  21870.0\n",
      "Washington              21675.0\n",
      "Louisiana               21412.0\n",
      "California              21295.5\n",
      "Illinois                20094.0\n",
      "Indiana                 19779.0\n",
      "North Carolina          19729.0\n",
      "Ohio                    18970.0\n",
      "Minnesota               18833.0\n",
      "Texas                   18804.0\n",
      "Wisconsin               18444.5\n",
      "Georgia                 17851.5\n",
      "Wyoming                 16968.0\n",
      "Colorado                16858.5\n",
      "Tennessee               16797.5\n",
      "Virginia                16599.5\n",
      "Florida                 16569.0\n",
      "Nevada                  16138.5\n",
      "South Carolina          15651.0\n",
      "Oklahoma                15245.0\n",
      "Nebraska                15208.5\n",
      "Missouri                15047.5\n",
      "Kentucky                15036.0\n",
      "Montana                 14790.5\n",
      "New Hampshire           14551.5\n",
      "Michigan                14435.0\n",
      "Hawaii                  14217.5\n",
      "Alaska                  14097.5\n",
      "New Mexico              14067.0\n",
      "South Dakota            13666.0\n",
      "Arkansas                13310.0\n",
      "Kansas                  13225.5\n",
      "Iowa                    12792.0\n",
      "Delaware                12745.5\n",
      "Alabama                 12298.0\n",
      "Mississippi             11816.5\n",
      "Arizona                 10609.5\n",
      "West Virginia           10305.5\n",
      "North Dakota            10267.0\n",
      "Utah                     7750.0\n",
      "Idaho                    6644.0\n",
      "Name: Value, dtype: float64\n"
     ]
    }
   ],
   "source": [
    "#2021年不同州的私立大學學費\n",
    "# 按州分组，并计算每个州的学费平均值和中位数\n",
    "mean_by_state = Private_fee.groupby('State')['Value'].mean()\n",
    "median_by_state = Private_fee.groupby('State')['Value'].median()\n",
    "# 将平均值和中位数从大到小排序\n",
    "mean_sorted = mean_by_state.sort_values(ascending=False)\n",
    "median_sorted = median_by_state.sort_values(ascending=False)\n",
    "\n",
    "# 输出结果\n",
    "print('2021年不同州的大学学费平均值：')\n",
    "print(mean_sorted)\n",
    "print('\\n2021年不同州的大学学费中位数：')\n",
    "print(median_sorted)"
   ]
  },
  {
   "cell_type": "code",
   "execution_count": 7,
   "id": "4e311f5f",
   "metadata": {},
   "outputs": [
    {
     "data": {
      "image/png": "[encoded data removed]",
      "text/plain": [
       "<Figure size 640x480 with 1 Axes>"
      ]
     },
     "metadata": {},
     "output_type": "display_data"
    }
   ],
   "source": [
    "#從2013~2021的八年間，美國的大學學費是否有漲跌？\n",
    "data = USU[['Year', 'Value']]\n",
    "data = data.groupby('Year').mean()\n",
    "# 绘制折线图\n",
    "plt.plot(data.index, data['Value'])\n",
    "plt.xlabel('Year')\n",
    "plt.ylabel('Average cost of undergraduate student by state USA')\n",
    "plt.title('Average cost of undergraduate student by year')\n",
    "plt.show()"
   ]
  },
  {
   "cell_type": "code",
   "execution_count": 9,
   "id": "9badf307",
   "metadata": {
    "scrolled": true
   },
   "outputs": [
    {
     "name": "stdout",
     "output_type": "stream",
     "text": [
      "   State         Value\n",
      "0     AK  16113.800000\n",
      "1     AL  12979.142857\n",
      "2     AR  11875.571429\n",
      "3     AZ  11988.428571\n",
      "4     CA  18440.285714\n",
      "5     CO  15171.857143\n",
      "6     CT  20209.857143\n",
      "7     DC  24972.000000\n",
      "8     DE  16917.600000\n",
      "9     FL  13398.285714\n",
      "10    GA  14447.571429\n",
      "11    HI  14317.857143\n",
      "12    IA  15164.714286\n",
      "13    ID   9931.285714\n",
      "14    IL  16733.571429\n",
      "15    IN  16082.428571\n",
      "16    KS  12537.428571\n",
      "17    KY  14826.714286\n",
      "18    LA  15803.714286\n",
      "19    MA  20395.285714\n",
      "20    MD  17922.857143\n",
      "21    ME  16317.000000\n",
      "22    MI  16400.285714\n",
      "23    MN  14570.571429\n",
      "24    MO  13043.571429\n",
      "25    MS  11270.285714\n",
      "26    MT  14453.000000\n",
      "27    NC  15007.571429\n",
      "28    ND   9646.857143\n",
      "29    NE  12225.428571\n",
      "30    NH  15395.571429\n",
      "31    NJ  17497.142857\n",
      "32    NM  12265.000000\n",
      "33    NV  17302.600000\n",
      "34    NY  17802.285714\n",
      "35    OH  15953.571429\n",
      "36    OK  13358.857143\n",
      "37    OR  18921.714286\n",
      "38    PA  17902.714286\n",
      "39    RI  19713.000000\n",
      "40    SC  15319.285714\n",
      "41    SD  11290.714286\n",
      "42    TN  15509.571429\n",
      "43    TX  15223.571429\n",
      "44    UT   9997.428571\n",
      "45    VA  16077.571429\n",
      "46    VT  21744.571429\n",
      "47    WA  17681.428571\n",
      "48    WI  14757.857143\n",
      "49    WV  11592.714286\n",
      "50    WY   9623.000000\n"
     ]
    },
    {
     "data": {
      "application/vnd.plotly.v1+json": {
       "config": {
        "plotlyServerURL": "https://plot.ly"
       },
       "data": [
        {
         "coloraxis": "coloraxis",
         "geo": "geo",
         "hovertemplate": "State=%{location}<br>Average Cost=%{z}<extra></extra>",
         "locationmode": "USA-states",
         "locations": [
          "AK",
          "AL",
          "AR",
          "AZ",
          "CA",
          "CO",
          "CT",
          "DC",
          "DE",
          "FL",
          "GA",
          "HI",
          "IA",
          "ID",
          "IL",
          "IN",
          "KS",
          "KY",
          "LA",
          "MA",
          "MD",
          "ME",
          "MI",
          "MN",
          "MO",
          "MS",
          "MT",
          "NC",
          "ND",
          "NE",
          "NH",
          "NJ",
          "NM",
          "NV",
          "NY",
          "OH",
          "OK",
          "OR",
          "PA",
          "RI",
          "SC",
          "SD",
          "TN",
          "TX",
          "UT",
          "VA",
          "VT",
          "WA",
          "WI",
          "WV",
          "WY"
         ],
         "name": "",
         "type": "choropleth",
         "z": [
          16113.8,
          12979.142857142857,
          11875.57142857143,
          11988.42857142857,
          18440.285714285714,
          15171.857142857143,
          20209.85714285714,
          24972,
          16917.6,
          13398.285714285714,
          14447.57142857143,
          14317.857142857143,
          15164.714285714286,
          9931.285714285714,
          16733.571428571428,
          16082.42857142857,
          12537.42857142857,
          14826.714285714286,
          15803.714285714286,
          20395.285714285714,
          17922.85714285714,
          16317,
          16400.285714285714,
          14570.57142857143,
          13043.57142857143,
          11270.285714285714,
          14453,
          15007.57142857143,
          9646.857142857143,
          12225.42857142857,
          15395.57142857143,
          17497.14285714286,
          12265,
          17302.6,
          17802.285714285714,
          15953.57142857143,
          13358.857142857143,
          18921.714285714286,
          17902.714285714286,
          19713,
          15319.285714285714,
          11290.714285714286,
          15509.57142857143,
          15223.57142857143,
          9997.42857142857,
          16077.57142857143,
          21744.571428571428,
          17681.428571428572,
          14757.857142857143,
          11592.714285714286,
          9623
         ]
        }
       ],
       "layout": {
        "coloraxis": {
         "colorbar": {
          "title": {
           "text": "Average Cost"
          }
         },
         "colorscale": [
          [
           0,
           "#0d0887"
          ],
          [
           0.1111111111111111,
           "#46039f"
          ],
          [
           0.2222222222222222,
           "#7201a8"
          ],
          [
           0.3333333333333333,
           "#9c179e"
          ],
          [
           0.4444444444444444,
           "#bd3786"
          ],
          [
           0.5555555555555556,
           "#d8576b"
          ],
          [
           0.6666666666666666,
           "#ed7953"
          ],
          [
           0.7777777777777778,
           "#fb9f3a"
          ],
          [
           0.8888888888888888,
           "#fdca26"
          ],
          [
           1,
           "#f0f921"
          ]
         ]
        },
        "geo": {
         "bgcolor": "white",
         "center": {},
         "domain": {
          "x": [
           0,
           1
          ],
          "y": [
           0,
           1
          ]
         },
         "lakecolor": "lightblue",
         "landcolor": "white",
         "scope": "usa",
         "showcountries": true
        },
        "legend": {
         "tracegroupgap": 0
        },
        "template": {
         "data": {
          "bar": [
           {
            "error_x": {
             "color": "#2a3f5f"
            },
            "error_y": {
             "color": "#2a3f5f"
            },
            "marker": {
             "line": {
              "color": "#E5ECF6",
              "width": 0.5
             },
             "pattern": {
              "fillmode": "overlay",
              "size": 10,
              "solidity": 0.2
             }
            },
            "type": "bar"
           }
          ],
          "barpolar": [
           {
            "marker": {
             "line": {
              "color": "#E5ECF6",
              "width": 0.5
             },
             "pattern": {
              "fillmode": "overlay",
              "size": 10,
              "solidity": 0.2
             }
            },
            "type": "barpolar"
           }
          ],
          "carpet": [
           {
            "aaxis": {
             "endlinecolor": "#2a3f5f",
             "gridcolor": "white",
             "linecolor": "white",
             "minorgridcolor": "white",
             "startlinecolor": "#2a3f5f"
            },
            "baxis": {
             "endlinecolor": "#2a3f5f",
             "gridcolor": "white",
             "linecolor": "white",
             "minorgridcolor": "white",
             "startlinecolor": "#2a3f5f"
            },
            "type": "carpet"
           }
          ],
          "choropleth": [
           {
            "colorbar": {
             "outlinewidth": 0,
             "ticks": ""
            },
            "type": "choropleth"
           }
          ],
          "contour": [
           {
            "colorbar": {
             "outlinewidth": 0,
             "ticks": ""
            },
            "colorscale": [
             [
              0,
              "#0d0887"
             ],
             [
              0.1111111111111111,
              "#46039f"
             ],
             [
              0.2222222222222222,
              "#7201a8"
             ],
             [
              0.3333333333333333,
              "#9c179e"
             ],
             [
              0.4444444444444444,
              "#bd3786"
             ],
             [
              0.5555555555555556,
              "#d8576b"
             ],
             [
              0.6666666666666666,
              "#ed7953"
             ],
             [
              0.7777777777777778,
              "#fb9f3a"
             ],
             [
              0.8888888888888888,
              "#fdca26"
             ],
             [
              1,
              "#f0f921"
             ]
            ],
            "type": "contour"
           }
          ],
          "contourcarpet": [
           {
            "colorbar": {
             "outlinewidth": 0,
             "ticks": ""
            },
            "type": "contourcarpet"
           }
          ],
          "heatmap": [
           {
            "colorbar": {
             "outlinewidth": 0,
             "ticks": ""
            },
            "colorscale": [
             [
              0,
              "#0d0887"
             ],
             [
              0.1111111111111111,
              "#46039f"
             ],
             [
              0.2222222222222222,
              "#7201a8"
             ],
             [
              0.3333333333333333,
              "#9c179e"
             ],
             [
              0.4444444444444444,
              "#bd3786"
             ],
             [
              0.5555555555555556,
              "#d8576b"
             ],
             [
              0.6666666666666666,
              "#ed7953"
             ],
             [
              0.7777777777777778,
              "#fb9f3a"
             ],
             [
              0.8888888888888888,
              "#fdca26"
             ],
             [
              1,
              "#f0f921"
             ]
            ],
            "type": "heatmap"
           }
          ],
          "heatmapgl": [
           {
            "colorbar": {
             "outlinewidth": 0,
             "ticks": ""
            },
            "colorscale": [
             [
              0,
              "#0d0887"
             ],
             [
              0.1111111111111111,
              "#46039f"
             ],
             [
              0.2222222222222222,
              "#7201a8"
             ],
             [
              0.3333333333333333,
              "#9c179e"
             ],
             [
              0.4444444444444444,
              "#bd3786"
             ],
             [
              0.5555555555555556,
              "#d8576b"
             ],
             [
              0.6666666666666666,
              "#ed7953"
             ],
             [
              0.7777777777777778,
              "#fb9f3a"
             ],
             [
              0.8888888888888888,
              "#fdca26"
             ],
             [
              1,
              "#f0f921"
             ]
            ],
            "type": "heatmapgl"
           }
          ],
          "histogram": [
           {
            "marker": {
             "pattern": {
              "fillmode": "overlay",
              "size": 10,
              "solidity": 0.2
             }
            },
            "type": "histogram"
           }
          ],
          "histogram2d": [
           {
            "colorbar": {
             "outlinewidth": 0,
             "ticks": ""
            },
            "colorscale": [
             [
              0,
              "#0d0887"
             ],
             [
              0.1111111111111111,
              "#46039f"
             ],
             [
              0.2222222222222222,
              "#7201a8"
             ],
             [
              0.3333333333333333,
              "#9c179e"
             ],
             [
              0.4444444444444444,
              "#bd3786"
             ],
             [
              0.5555555555555556,
              "#d8576b"
             ],
             [
              0.6666666666666666,
              "#ed7953"
             ],
             [
              0.7777777777777778,
              "#fb9f3a"
             ],
             [
              0.8888888888888888,
              "#fdca26"
             ],
             [
              1,
              "#f0f921"
             ]
            ],
            "type": "histogram2d"
           }
          ],
          "histogram2dcontour": [
           {
            "colorbar": {
             "outlinewidth": 0,
             "ticks": ""
            },
            "colorscale": [
             [
              0,
              "#0d0887"
             ],
             [
              0.1111111111111111,
              "#46039f"
             ],
             [
              0.2222222222222222,
              "#7201a8"
             ],
             [
              0.3333333333333333,
              "#9c179e"
             ],
             [
              0.4444444444444444,
              "#bd3786"
             ],
             [
              0.5555555555555556,
              "#d8576b"
             ],
             [
              0.6666666666666666,
              "#ed7953"
             ],
             [
              0.7777777777777778,
              "#fb9f3a"
             ],
             [
              0.8888888888888888,
              "#fdca26"
             ],
             [
              1,
              "#f0f921"
             ]
            ],
            "type": "histogram2dcontour"
           }
          ],
          "mesh3d": [
           {
            "colorbar": {
             "outlinewidth": 0,
             "ticks": ""
            },
            "type": "mesh3d"
           }
          ],
          "parcoords": [
           {
            "line": {
             "colorbar": {
              "outlinewidth": 0,
              "ticks": ""
             }
            },
            "type": "parcoords"
           }
          ],
          "pie": [
           {
            "automargin": true,
            "type": "pie"
           }
          ],
          "scatter": [
           {
            "fillpattern": {
             "fillmode": "overlay",
             "size": 10,
             "solidity": 0.2
            },
            "type": "scatter"
           }
          ],
          "scatter3d": [
           {
            "line": {
             "colorbar": {
              "outlinewidth": 0,
              "ticks": ""
             }
            },
            "marker": {
             "colorbar": {
              "outlinewidth": 0,
              "ticks": ""
             }
            },
            "type": "scatter3d"
           }
          ],
          "scattercarpet": [
           {
            "marker": {
             "colorbar": {
              "outlinewidth": 0,
              "ticks": ""
             }
            },
            "type": "scattercarpet"
           }
          ],
          "scattergeo": [
           {
            "marker": {
             "colorbar": {
              "outlinewidth": 0,
              "ticks": ""
             }
            },
            "type": "scattergeo"
           }
          ],
          "scattergl": [
           {
            "marker": {
             "colorbar": {
              "outlinewidth": 0,
              "ticks": ""
             }
            },
            "type": "scattergl"
           }
          ],
          "scattermapbox": [
           {
            "marker": {
             "colorbar": {
              "outlinewidth": 0,
              "ticks": ""
             }
            },
            "type": "scattermapbox"
           }
          ],
          "scatterpolar": [
           {
            "marker": {
             "colorbar": {
              "outlinewidth": 0,
              "ticks": ""
             }
            },
            "type": "scatterpolar"
           }
          ],
          "scatterpolargl": [
           {
            "marker": {
             "colorbar": {
              "outlinewidth": 0,
              "ticks": ""
             }
            },
            "type": "scatterpolargl"
           }
          ],
          "scatterternary": [
           {
            "marker": {
             "colorbar": {
              "outlinewidth": 0,
              "ticks": ""
             }
            },
            "type": "scatterternary"
           }
          ],
          "surface": [
           {
            "colorbar": {
             "outlinewidth": 0,
             "ticks": ""
            },
            "colorscale": [
             [
              0,
              "#0d0887"
             ],
             [
              0.1111111111111111,
              "#46039f"
             ],
             [
              0.2222222222222222,
              "#7201a8"
             ],
             [
              0.3333333333333333,
              "#9c179e"
             ],
             [
              0.4444444444444444,
              "#bd3786"
             ],
             [
              0.5555555555555556,
              "#d8576b"
             ],
             [
              0.6666666666666666,
              "#ed7953"
             ],
             [
              0.7777777777777778,
              "#fb9f3a"
             ],
             [
              0.8888888888888888,
              "#fdca26"
             ],
             [
              1,
              "#f0f921"
             ]
            ],
            "type": "surface"
           }
          ],
          "table": [
           {
            "cells": {
             "fill": {
              "color": "#EBF0F8"
             },
             "line": {
              "color": "white"
             }
            },
            "header": {
             "fill": {
              "color": "#C8D4E3"
             },
             "line": {
              "color": "white"
             }
            },
            "type": "table"
           }
          ]
         },
         "layout": {
          "annotationdefaults": {
           "arrowcolor": "#2a3f5f",
           "arrowhead": 0,
           "arrowwidth": 1
          },
          "autotypenumbers": "strict",
          "coloraxis": {
           "colorbar": {
            "outlinewidth": 0,
            "ticks": ""
           }
          },
          "colorscale": {
           "diverging": [
            [
             0,
             "#8e0152"
            ],
            [
             0.1,
             "#c51b7d"
            ],
            [
             0.2,
             "#de77ae"
            ],
            [
             0.3,
             "#f1b6da"
            ],
            [
             0.4,
             "#fde0ef"
            ],
            [
             0.5,
             "#f7f7f7"
            ],
            [
             0.6,
             "#e6f5d0"
            ],
            [
             0.7,
             "#b8e186"
            ],
            [
             0.8,
             "#7fbc41"
            ],
            [
             0.9,
             "#4d9221"
            ],
            [
             1,
             "#276419"
            ]
           ],
           "sequential": [
            [
             0,
             "#0d0887"
            ],
            [
             0.1111111111111111,
             "#46039f"
            ],
            [
             0.2222222222222222,
             "#7201a8"
            ],
            [
             0.3333333333333333,
             "#9c179e"
            ],
            [
             0.4444444444444444,
             "#bd3786"
            ],
            [
             0.5555555555555556,
             "#d8576b"
            ],
            [
             0.6666666666666666,
             "#ed7953"
            ],
            [
             0.7777777777777778,
             "#fb9f3a"
            ],
            [
             0.8888888888888888,
             "#fdca26"
            ],
            [
             1,
             "#f0f921"
            ]
           ],
           "sequentialminus": [
            [
             0,
             "#0d0887"
            ],
            [
             0.1111111111111111,
             "#46039f"
            ],
            [
             0.2222222222222222,
             "#7201a8"
            ],
            [
             0.3333333333333333,
             "#9c179e"
            ],
            [
             0.4444444444444444,
             "#bd3786"
            ],
            [
             0.5555555555555556,
             "#d8576b"
            ],
            [
             0.6666666666666666,
             "#ed7953"
            ],
            [
             0.7777777777777778,
             "#fb9f3a"
            ],
            [
             0.8888888888888888,
             "#fdca26"
            ],
            [
             1,
             "#f0f921"
            ]
           ]
          },
          "colorway": [
           "#636efa",
           "#EF553B",
           "#00cc96",
           "#ab63fa",
           "#FFA15A",
           "#19d3f3",
           "#FF6692",
           "#B6E880",
           "#FF97FF",
           "#FECB52"
          ],
          "font": {
           "color": "#2a3f5f"
          },
          "geo": {
           "bgcolor": "white",
           "lakecolor": "white",
           "landcolor": "#E5ECF6",
           "showlakes": true,
           "showland": true,
           "subunitcolor": "white"
          },
          "hoverlabel": {
           "align": "left"
          },
          "hovermode": "closest",
          "mapbox": {
           "style": "light"
          },
          "paper_bgcolor": "white",
          "plot_bgcolor": "#E5ECF6",
          "polar": {
           "angularaxis": {
            "gridcolor": "white",
            "linecolor": "white",
            "ticks": ""
           },
           "bgcolor": "#E5ECF6",
           "radialaxis": {
            "gridcolor": "white",
            "linecolor": "white",
            "ticks": ""
           }
          },
          "scene": {
           "xaxis": {
            "backgroundcolor": "#E5ECF6",
            "gridcolor": "white",
            "gridwidth": 2,
            "linecolor": "white",
            "showbackground": true,
            "ticks": "",
            "zerolinecolor": "white"
           },
           "yaxis": {
            "backgroundcolor": "#E5ECF6",
            "gridcolor": "white",
            "gridwidth": 2,
            "linecolor": "white",
            "showbackground": true,
            "ticks": "",
            "zerolinecolor": "white"
           },
           "zaxis": {
            "backgroundcolor": "#E5ECF6",
            "gridcolor": "white",
            "gridwidth": 2,
            "linecolor": "white",
            "showbackground": true,
            "ticks": "",
            "zerolinecolor": "white"
           }
          },
          "shapedefaults": {
           "line": {
            "color": "#2a3f5f"
           }
          },
          "ternary": {
           "aaxis": {
            "gridcolor": "white",
            "linecolor": "white",
            "ticks": ""
           },
           "baxis": {
            "gridcolor": "white",
            "linecolor": "white",
            "ticks": ""
           },
           "bgcolor": "#E5ECF6",
           "caxis": {
            "gridcolor": "white",
            "linecolor": "white",
            "ticks": ""
           }
          },
          "title": {
           "x": 0.05
          },
          "xaxis": {
           "automargin": true,
           "gridcolor": "white",
           "linecolor": "white",
           "ticks": "",
           "title": {
            "standoff": 15
           },
           "zerolinecolor": "white",
           "zerolinewidth": 2
          },
          "yaxis": {
           "automargin": true,
           "gridcolor": "white",
           "linecolor": "white",
           "ticks": "",
           "title": {
            "standoff": 15
           },
           "zerolinecolor": "white",
           "zerolinewidth": 2
          }
         }
        },
        "title": {
         "text": "Average Cost of Undergraduate Student by State in 2021"
        }
       }
      },
      "text/html": [
       "<div>                            <div id=\"ece481a9-7095-4dbb-bae3-5feee836c700\" class=\"plotly-graph-div\" style=\"height:525px; width:100%;\"></div>            <script type=\"text/javascript\">                require([\"plotly\"], function(Plotly) {                    window.PLOTLYENV=window.PLOTLYENV || {};                                    if (document.getElementById(\"ece481a9-7095-4dbb-bae3-5feee836c700\")) {                    Plotly.newPlot(                        \"ece481a9-7095-4dbb-bae3-5feee836c700\",                        [{\"coloraxis\":\"coloraxis\",\"geo\":\"geo\",\"hovertemplate\":\"State=%{location}<br>Average Cost=%{z}<extra></extra>\",\"locationmode\":\"USA-states\",\"locations\":[\"AK\",\"AL\",\"AR\",\"AZ\",\"CA\",\"CO\",\"CT\",\"DC\",\"DE\",\"FL\",\"GA\",\"HI\",\"IA\",\"ID\",\"IL\",\"IN\",\"KS\",\"KY\",\"LA\",\"MA\",\"MD\",\"ME\",\"MI\",\"MN\",\"MO\",\"MS\",\"MT\",\"NC\",\"ND\",\"NE\",\"NH\",\"NJ\",\"NM\",\"NV\",\"NY\",\"OH\",\"OK\",\"OR\",\"PA\",\"RI\",\"SC\",\"SD\",\"TN\",\"TX\",\"UT\",\"VA\",\"VT\",\"WA\",\"WI\",\"WV\",\"WY\"],\"name\":\"\",\"z\":[16113.8,12979.142857142857,11875.57142857143,11988.42857142857,18440.285714285714,15171.857142857143,20209.85714285714,24972.0,16917.6,13398.285714285714,14447.57142857143,14317.857142857143,15164.714285714286,9931.285714285714,16733.571428571428,16082.42857142857,12537.42857142857,14826.714285714286,15803.714285714286,20395.285714285714,17922.85714285714,16317.0,16400.285714285714,14570.57142857143,13043.57142857143,11270.285714285714,14453.0,15007.57142857143,9646.857142857143,12225.42857142857,15395.57142857143,17497.14285714286,12265.0,17302.6,17802.285714285714,15953.57142857143,13358.857142857143,18921.714285714286,17902.714285714286,19713.0,15319.285714285714,11290.714285714286,15509.57142857143,15223.57142857143,9997.42857142857,16077.57142857143,21744.571428571428,17681.428571428572,14757.857142857143,11592.714285714286,9623.0],\"type\":\"choropleth\"}],                        {\"template\":{\"data\":{\"histogram2dcontour\":[{\"type\":\"histogram2dcontour\",\"colorbar\":{\"outlinewidth\":0,\"ticks\":\"\"},\"colorscale\":[[0.0,\"#0d0887\"],[0.1111111111111111,\"#46039f\"],[0.2222222222222222,\"#7201a8\"],[0.3333333333333333,\"#9c179e\"],[0.4444444444444444,\"#bd3786\"],[0.5555555555555556,\"#d8576b\"],[0.6666666666666666,\"#ed7953\"],[0.7777777777777778,\"#fb9f3a\"],[0.8888888888888888,\"#fdca26\"],[1.0,\"#f0f921\"]]}],\"choropleth\":[{\"type\":\"choropleth\",\"colorbar\":{\"outlinewidth\":0,\"ticks\":\"\"}}],\"histogram2d\":[{\"type\":\"histogram2d\",\"colorbar\":{\"outlinewidth\":0,\"ticks\":\"\"},\"colorscale\":[[0.0,\"#0d0887\"],[0.1111111111111111,\"#46039f\"],[0.2222222222222222,\"#7201a8\"],[0.3333333333333333,\"#9c179e\"],[0.4444444444444444,\"#bd3786\"],[0.5555555555555556,\"#d8576b\"],[0.6666666666666666,\"#ed7953\"],[0.7777777777777778,\"#fb9f3a\"],[0.8888888888888888,\"#fdca26\"],[1.0,\"#f0f921\"]]}],\"heatmap\":[{\"type\":\"heatmap\",\"colorbar\":{\"outlinewidth\":0,\"ticks\":\"\"},\"colorscale\":[[0.0,\"#0d0887\"],[0.1111111111111111,\"#46039f\"],[0.2222222222222222,\"#7201a8\"],[0.3333333333333333,\"#9c179e\"],[0.4444444444444444,\"#bd3786\"],[0.5555555555555556,\"#d8576b\"],[0.6666666666666666,\"#ed7953\"],[0.7777777777777778,\"#fb9f3a\"],[0.8888888888888888,\"#fdca26\"],[1.0,\"#f0f921\"]]}],\"heatmapgl\":[{\"type\":\"heatmapgl\",\"colorbar\":{\"outlinewidth\":0,\"ticks\":\"\"},\"colorscale\":[[0.0,\"#0d0887\"],[0.1111111111111111,\"#46039f\"],[0.2222222222222222,\"#7201a8\"],[0.3333333333333333,\"#9c179e\"],[0.4444444444444444,\"#bd3786\"],[0.5555555555555556,\"#d8576b\"],[0.6666666666666666,\"#ed7953\"],[0.7777777777777778,\"#fb9f3a\"],[0.8888888888888888,\"#fdca26\"],[1.0,\"#f0f921\"]]}],\"contourcarpet\":[{\"type\":\"contourcarpet\",\"colorbar\":{\"outlinewidth\":0,\"ticks\":\"\"}}],\"contour\":[{\"type\":\"contour\",\"colorbar\":{\"outlinewidth\":0,\"ticks\":\"\"},\"colorscale\":[[0.0,\"#0d0887\"],[0.1111111111111111,\"#46039f\"],[0.2222222222222222,\"#7201a8\"],[0.3333333333333333,\"#9c179e\"],[0.4444444444444444,\"#bd3786\"],[0.5555555555555556,\"#d8576b\"],[0.6666666666666666,\"#ed7953\"],[0.7777777777777778,\"#fb9f3a\"],[0.8888888888888888,\"#fdca26\"],[1.0,\"#f0f921\"]]}],\"surface\":[{\"type\":\"surface\",\"colorbar\":{\"outlinewidth\":0,\"ticks\":\"\"},\"colorscale\":[[0.0,\"#0d0887\"],[0.1111111111111111,\"#46039f\"],[0.2222222222222222,\"#7201a8\"],[0.3333333333333333,\"#9c179e\"],[0.4444444444444444,\"#bd3786\"],[0.5555555555555556,\"#d8576b\"],[0.6666666666666666,\"#ed7953\"],[0.7777777777777778,\"#fb9f3a\"],[0.8888888888888888,\"#fdca26\"],[1.0,\"#f0f921\"]]}],\"mesh3d\":[{\"type\":\"mesh3d\",\"colorbar\":{\"outlinewidth\":0,\"ticks\":\"\"}}],\"scatter\":[{\"fillpattern\":{\"fillmode\":\"overlay\",\"size\":10,\"solidity\":0.2},\"type\":\"scatter\"}],\"parcoords\":[{\"type\":\"parcoords\",\"line\":{\"colorbar\":{\"outlinewidth\":0,\"ticks\":\"\"}}}],\"scatterpolargl\":[{\"type\":\"scatterpolargl\",\"marker\":{\"colorbar\":{\"outlinewidth\":0,\"ticks\":\"\"}}}],\"bar\":[{\"error_x\":{\"color\":\"#2a3f5f\"},\"error_y\":{\"color\":\"#2a3f5f\"},\"marker\":{\"line\":{\"color\":\"#E5ECF6\",\"width\":0.5},\"pattern\":{\"fillmode\":\"overlay\",\"size\":10,\"solidity\":0.2}},\"type\":\"bar\"}],\"scattergeo\":[{\"type\":\"scattergeo\",\"marker\":{\"colorbar\":{\"outlinewidth\":0,\"ticks\":\"\"}}}],\"scatterpolar\":[{\"type\":\"scatterpolar\",\"marker\":{\"colorbar\":{\"outlinewidth\":0,\"ticks\":\"\"}}}],\"histogram\":[{\"marker\":{\"pattern\":{\"fillmode\":\"overlay\",\"size\":10,\"solidity\":0.2}},\"type\":\"histogram\"}],\"scattergl\":[{\"type\":\"scattergl\",\"marker\":{\"colorbar\":{\"outlinewidth\":0,\"ticks\":\"\"}}}],\"scatter3d\":[{\"type\":\"scatter3d\",\"line\":{\"colorbar\":{\"outlinewidth\":0,\"ticks\":\"\"}},\"marker\":{\"colorbar\":{\"outlinewidth\":0,\"ticks\":\"\"}}}],\"scattermapbox\":[{\"type\":\"scattermapbox\",\"marker\":{\"colorbar\":{\"outlinewidth\":0,\"ticks\":\"\"}}}],\"scatterternary\":[{\"type\":\"scatterternary\",\"marker\":{\"colorbar\":{\"outlinewidth\":0,\"ticks\":\"\"}}}],\"scattercarpet\":[{\"type\":\"scattercarpet\",\"marker\":{\"colorbar\":{\"outlinewidth\":0,\"ticks\":\"\"}}}],\"carpet\":[{\"aaxis\":{\"endlinecolor\":\"#2a3f5f\",\"gridcolor\":\"white\",\"linecolor\":\"white\",\"minorgridcolor\":\"white\",\"startlinecolor\":\"#2a3f5f\"},\"baxis\":{\"endlinecolor\":\"#2a3f5f\",\"gridcolor\":\"white\",\"linecolor\":\"white\",\"minorgridcolor\":\"white\",\"startlinecolor\":\"#2a3f5f\"},\"type\":\"carpet\"}],\"table\":[{\"cells\":{\"fill\":{\"color\":\"#EBF0F8\"},\"line\":{\"color\":\"white\"}},\"header\":{\"fill\":{\"color\":\"#C8D4E3\"},\"line\":{\"color\":\"white\"}},\"type\":\"table\"}],\"barpolar\":[{\"marker\":{\"line\":{\"color\":\"#E5ECF6\",\"width\":0.5},\"pattern\":{\"fillmode\":\"overlay\",\"size\":10,\"solidity\":0.2}},\"type\":\"barpolar\"}],\"pie\":[{\"automargin\":true,\"type\":\"pie\"}]},\"layout\":{\"autotypenumbers\":\"strict\",\"colorway\":[\"#636efa\",\"#EF553B\",\"#00cc96\",\"#ab63fa\",\"#FFA15A\",\"#19d3f3\",\"#FF6692\",\"#B6E880\",\"#FF97FF\",\"#FECB52\"],\"font\":{\"color\":\"#2a3f5f\"},\"hovermode\":\"closest\",\"hoverlabel\":{\"align\":\"left\"},\"paper_bgcolor\":\"white\",\"plot_bgcolor\":\"#E5ECF6\",\"polar\":{\"bgcolor\":\"#E5ECF6\",\"angularaxis\":{\"gridcolor\":\"white\",\"linecolor\":\"white\",\"ticks\":\"\"},\"radialaxis\":{\"gridcolor\":\"white\",\"linecolor\":\"white\",\"ticks\":\"\"}},\"ternary\":{\"bgcolor\":\"#E5ECF6\",\"aaxis\":{\"gridcolor\":\"white\",\"linecolor\":\"white\",\"ticks\":\"\"},\"baxis\":{\"gridcolor\":\"white\",\"linecolor\":\"white\",\"ticks\":\"\"},\"caxis\":{\"gridcolor\":\"white\",\"linecolor\":\"white\",\"ticks\":\"\"}},\"coloraxis\":{\"colorbar\":{\"outlinewidth\":0,\"ticks\":\"\"}},\"colorscale\":{\"sequential\":[[0.0,\"#0d0887\"],[0.1111111111111111,\"#46039f\"],[0.2222222222222222,\"#7201a8\"],[0.3333333333333333,\"#9c179e\"],[0.4444444444444444,\"#bd3786\"],[0.5555555555555556,\"#d8576b\"],[0.6666666666666666,\"#ed7953\"],[0.7777777777777778,\"#fb9f3a\"],[0.8888888888888888,\"#fdca26\"],[1.0,\"#f0f921\"]],\"sequentialminus\":[[0.0,\"#0d0887\"],[0.1111111111111111,\"#46039f\"],[0.2222222222222222,\"#7201a8\"],[0.3333333333333333,\"#9c179e\"],[0.4444444444444444,\"#bd3786\"],[0.5555555555555556,\"#d8576b\"],[0.6666666666666666,\"#ed7953\"],[0.7777777777777778,\"#fb9f3a\"],[0.8888888888888888,\"#fdca26\"],[1.0,\"#f0f921\"]],\"diverging\":[[0,\"#8e0152\"],[0.1,\"#c51b7d\"],[0.2,\"#de77ae\"],[0.3,\"#f1b6da\"],[0.4,\"#fde0ef\"],[0.5,\"#f7f7f7\"],[0.6,\"#e6f5d0\"],[0.7,\"#b8e186\"],[0.8,\"#7fbc41\"],[0.9,\"#4d9221\"],[1,\"#276419\"]]},\"xaxis\":{\"gridcolor\":\"white\",\"linecolor\":\"white\",\"ticks\":\"\",\"title\":{\"standoff\":15},\"zerolinecolor\":\"white\",\"automargin\":true,\"zerolinewidth\":2},\"yaxis\":{\"gridcolor\":\"white\",\"linecolor\":\"white\",\"ticks\":\"\",\"title\":{\"standoff\":15},\"zerolinecolor\":\"white\",\"automargin\":true,\"zerolinewidth\":2},\"scene\":{\"xaxis\":{\"backgroundcolor\":\"#E5ECF6\",\"gridcolor\":\"white\",\"linecolor\":\"white\",\"showbackground\":true,\"ticks\":\"\",\"zerolinecolor\":\"white\",\"gridwidth\":2},\"yaxis\":{\"backgroundcolor\":\"#E5ECF6\",\"gridcolor\":\"white\",\"linecolor\":\"white\",\"showbackground\":true,\"ticks\":\"\",\"zerolinecolor\":\"white\",\"gridwidth\":2},\"zaxis\":{\"backgroundcolor\":\"#E5ECF6\",\"gridcolor\":\"white\",\"linecolor\":\"white\",\"showbackground\":true,\"ticks\":\"\",\"zerolinecolor\":\"white\",\"gridwidth\":2}},\"shapedefaults\":{\"line\":{\"color\":\"#2a3f5f\"}},\"annotationdefaults\":{\"arrowcolor\":\"#2a3f5f\",\"arrowhead\":0,\"arrowwidth\":1},\"geo\":{\"bgcolor\":\"white\",\"landcolor\":\"#E5ECF6\",\"subunitcolor\":\"white\",\"showland\":true,\"showlakes\":true,\"lakecolor\":\"white\"},\"title\":{\"x\":0.05},\"mapbox\":{\"style\":\"light\"}}},\"geo\":{\"domain\":{\"x\":[0.0,1.0],\"y\":[0.0,1.0]},\"center\":{},\"scope\":\"usa\",\"bgcolor\":\"white\",\"lakecolor\":\"lightblue\",\"landcolor\":\"white\",\"showcountries\":true},\"coloraxis\":{\"colorbar\":{\"title\":{\"text\":\"Average Cost\"}},\"colorscale\":[[0.0,\"#0d0887\"],[0.1111111111111111,\"#46039f\"],[0.2222222222222222,\"#7201a8\"],[0.3333333333333333,\"#9c179e\"],[0.4444444444444444,\"#bd3786\"],[0.5555555555555556,\"#d8576b\"],[0.6666666666666666,\"#ed7953\"],[0.7777777777777778,\"#fb9f3a\"],[0.8888888888888888,\"#fdca26\"],[1.0,\"#f0f921\"]]},\"legend\":{\"tracegroupgap\":0},\"title\":{\"text\":\"Average Cost of Undergraduate Student by State in 2021\"}},                        {\"responsive\": true}                    ).then(function(){\n",
       "                            \n",
       "var gd = document.getElementById('ece481a9-7095-4dbb-bae3-5feee836c700');\n",
       "var x = new MutationObserver(function (mutations, observer) {{\n",
       "        var display = window.getComputedStyle(gd).display;\n",
       "        if (!display || display === 'none') {{\n",
       "            console.log([gd, 'removed!']);\n",
       "            Plotly.purge(gd);\n",
       "            observer.disconnect();\n",
       "        }}\n",
       "}});\n",
       "\n",
       "// Listen for the removal of the full notebook cells\n",
       "var notebookContainer = gd.closest('#notebook-container');\n",
       "if (notebookContainer) {{\n",
       "    x.observe(notebookContainer, {childList: true});\n",
       "}}\n",
       "\n",
       "// Listen for the clearing of the current output cell\n",
       "var outputEl = gd.closest('.output');\n",
       "if (outputEl) {{\n",
       "    x.observe(outputEl, {childList: true});\n",
       "}}\n",
       "\n",
       "                        })                };                });            </script>        </div>"
      ]
     },
     "metadata": {},
     "output_type": "display_data"
    }
   ],
   "source": [
    "#我想知道，在美國哪個區域讀大學最貴，反之亦然？\n",
    "data_2021 = USU[USU['Year'] == 2021]\n",
    "# 将州名全称替换为缩写\n",
    "state_abbr = {'Alabama': 'AL', 'Alaska': 'AK', 'Arizona': 'AZ', 'Arkansas': 'AR', 'California': 'CA',\n",
    "              'Colorado': 'CO', 'Connecticut': 'CT', 'Delaware': 'DE', 'Florida': 'FL', 'Georgia': 'GA',\n",
    "              'Hawaii': 'HI', 'Idaho': 'ID', 'Illinois': 'IL', 'Indiana': 'IN', 'Iowa': 'IA', 'Kansas': 'KS',\n",
    "              'Kentucky': 'KY', 'Louisiana': 'LA', 'Maine': 'ME', 'Maryland': 'MD', 'Massachusetts': 'MA',\n",
    "              'Michigan': 'MI', 'Minnesota': 'MN', 'Mississippi': 'MS', 'Missouri': 'MO', 'Montana': 'MT',\n",
    "              'Nebraska': 'NE', 'Nevada': 'NV', 'New Hampshire': 'NH', 'New Jersey': 'NJ', 'New Mexico': 'NM',\n",
    "              'New York': 'NY', 'North Carolina': 'NC', 'North Dakota': 'ND', 'Ohio': 'OH', 'Oklahoma': 'OK',\n",
    "              'Oregon': 'OR', 'Pennsylvania': 'PA', 'Rhode Island': 'RI', 'South Carolina': 'SC', 'South Dakota': 'SD',\n",
    "              'Tennessee': 'TN', 'Texas': 'TX', 'Utah': 'UT', 'Vermont': 'VT', 'Virginia': 'VA', 'Washington': 'WA',\n",
    "              'West Virginia': 'WV', 'Wisconsin': 'WI', 'Wyoming': 'WY', 'District of Columbia': 'DC'}\n",
    "\n",
    "USU['State'] = USU['State'].replace(state_abbr)\n",
    "\n",
    "# 按州分组计算平均值\n",
    "data_by_state = data_2021.groupby('State')['Value'].mean().reset_index()\n",
    "print(data_by_state)\n",
    "fig = px.choropleth(data_by_state,\n",
    "              locations='State',\n",
    "              locationmode='USA-states',\n",
    "              color='Value',\n",
    "              scope='usa',\n",
    "              title='Average Cost of Undergraduate Student by State in 2021',\n",
    "              labels={'Value': 'Average Cost'})\n",
    "fig.update_layout(geo=dict(bgcolor='white', lakecolor='lightblue',\n",
    "                            landcolor='white', showcountries=True))\n",
    "fig.show()"
   ]
  },
  {
   "cell_type": "code",
   "execution_count": null,
   "id": "8dce6071",
   "metadata": {},
   "outputs": [],
   "source": []
  },
  {
   "cell_type": "code",
   "execution_count": null,
   "id": "b05689ea",
   "metadata": {},
   "outputs": [],
   "source": []
  }
 ],
 "metadata": {
  "kernelspec": {
   "display_name": "Python 3 (ipykernel)",
   "language": "python",
   "name": "python3"
  },
  "language_info": {
   "codemirror_mode": {
    "name": "ipython",
    "version": 3
   },
   "file_extension": ".py",
   "mimetype": "text/x-python",
   "name": "python",
   "nbconvert_exporter": "python",
   "pygments_lexer": "ipython3",
   "version": "3.9.13"
  }
 },
 "nbformat": 4,
 "nbformat_minor": 5
}
